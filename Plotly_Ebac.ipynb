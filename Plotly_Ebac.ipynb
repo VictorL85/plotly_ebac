{
  "nbformat": 4,
  "nbformat_minor": 0,
  "metadata": {
    "colab": {
      "provenance": [],
      "authorship_tag": "ABX9TyMh7tnNvRsORPBGTpN15fu/",
      "include_colab_link": true
    },
    "kernelspec": {
      "name": "python3",
      "display_name": "Python 3"
    },
    "language_info": {
      "name": "python"
    }
  },
  "cells": [
    {
      "cell_type": "markdown",
      "metadata": {
        "id": "view-in-github",
        "colab_type": "text"
      },
      "source": [
        "<a href=\"https://colab.research.google.com/github/VictorL85/plotly_ebac/blob/main/Plotly_Ebac.ipynb\" target=\"_parent\"><img src=\"https://colab.research.google.com/assets/colab-badge.svg\" alt=\"Open In Colab\"/></a>"
      ]
    },
    {
      "cell_type": "code",
      "source": [
        "import pandas as pd\n",
        "import plotly.express as px\n",
        "from dash import Dash, html, dcc\n",
        "import plotly.graph_objects as go\n",
        "import numpy as np"
      ],
      "metadata": {
        "id": "CCEXY7R2ji18"
      },
      "execution_count": 73,
      "outputs": []
    },
    {
      "cell_type": "code",
      "source": [
        "df = pd.read_csv('/content/ecommerce_estatistica.csv')"
      ],
      "metadata": {
        "id": "oN1gSa0gj2ps"
      },
      "execution_count": 3,
      "outputs": []
    },
    {
      "cell_type": "code",
      "source": [
        "df['Qtd_Vendidos2'] = df['Qtd_Vendidos'].astype(str).str.replace('[^0-9]', '', regex=True)\n",
        "df['Qtd_Vendidos2'] = pd.to_numeric(df['Qtd_Vendidos2'], errors='coerce')\n",
        "df_mp = df[['Preço','Qtd_Vendidos2','Nota','Desconto','Marca_Cod']].corr()"
      ],
      "metadata": {
        "id": "Ap2dFrpPo5zW"
      },
      "execution_count": 6,
      "outputs": []
    },
    {
      "cell_type": "code",
      "source": [
        "fig = px.pie(df, names='Gênero',values='Qtd_Vendidos2',title='Gráfico de Pizza(Gênero e Quantidade Vendida)')\n",
        "fig.show()"
      ],
      "metadata": {
        "colab": {
          "base_uri": "https://localhost:8080/",
          "height": 542
        },
        "id": "F5PYYrjpqosq",
        "outputId": "b8a63f62-19d8-4d80-cea8-94777ef1da48"
      },
      "execution_count": 33,
      "outputs": [
        {
          "output_type": "display_data",
          "data": {
            "text/html": [
              "<html>\n",
              "<head><meta charset=\"utf-8\" /></head>\n",
              "<body>\n",
              "    <div>            <script src=\"https://cdnjs.cloudflare.com/ajax/libs/mathjax/2.7.5/MathJax.js?config=TeX-AMS-MML_SVG\"></script><script type=\"text/javascript\">if (window.MathJax && window.MathJax.Hub && window.MathJax.Hub.Config) {window.MathJax.Hub.Config({SVG: {font: \"STIX-Web\"}});}</script>                <script type=\"text/javascript\">window.PlotlyConfig = {MathJaxConfig: 'local'};</script>\n",
              "        <script charset=\"utf-8\" src=\"https://cdn.plot.ly/plotly-2.35.2.min.js\"></script>                <div id=\"8386cf8d-c6c9-449f-942e-798fb334e15c\" class=\"plotly-graph-div\" style=\"height:525px; width:100%;\"></div>            <script type=\"text/javascript\">                                    window.PLOTLYENV=window.PLOTLYENV || {};                                    if (document.getElementById(\"8386cf8d-c6c9-449f-942e-798fb334e15c\")) {                    Plotly.newPlot(                        \"8386cf8d-c6c9-449f-942e-798fb334e15c\",                        [{\"domain\":{\"x\":[0.0,1.0],\"y\":[0.0,1.0]},\"hovertemplate\":\"Gênero=%{label}\\u003cbr\\u003eQtd_Vendidos2=%{value}\\u003cextra\\u003e\\u003c\\u002fextra\\u003e\",\"labels\":[\"Masculino\",\"Masculino\",\"Masculino\",\"Feminino\",\"Sem gênero infantil\",\"Masculino\",\"Masculino\",\"Masculino\",\"Masculino\",\"Feminino\",\"Sem gênero\",\"Sem gênero\",\"Masculino\",\"Meninos\",\"Masculino\",\"Masculino\",\"Masculino\",\"Feminino\",\"Masculino\",\"Masculino\",\"Feminino\",\"Masculino\",\"Feminino\",\"Feminino\",\"Masculino\",\"Masculino\",\"Feminino\",\"Feminino\",\"Masculino\",\"Masculino\",\"Masculino\",\"Masculino\",\"Masculino\",\"Sem gênero\",\"Feminino\",\"Masculino\",\"Masculino\",\"Masculino\",\"Feminino\",\"Feminino\",\"Masculino\",\"Feminino\",\"Feminino\",\"Feminino\",\"Masculino\",\"Masculino\",\"Feminino\",\"Masculino\",\"Masculino\",\"Masculino\",\"Sem gênero\",\"Feminino\",\"Masculino\",\"Feminino\",\"Feminino\",\"Masculino\",\"Masculino\",\"Masculino\",\"Feminino\",\"Sem gênero\",\"Feminino\",\"Masculino\",\"Feminino\",\"Feminino\",\"Masculino\",\"Feminino\",\"Feminino\",\"Masculino\",\"Feminino\",\"Masculino\",\"Sem gênero\",\"Meninas\",\"Feminino\",\"Feminino\",\"Feminino\",\"Sem gênero\",\"Feminino\",\"Masculino\",\"Feminino\",\"Masculino\",\"Sem gênero\",\"Masculino\",\"Masculino\",\"Masculino\",\"Masculino\",\"Sem gênero infantil\",\"Masculino\",\"Masculino\",\"Masculino\",\"Sem gênero\",\"Masculino\",\"Masculino\",\"Masculino\",\"Feminino\",\"Sem gênero\",\"Masculino\",\"Feminino\",\"Feminino\",\"Feminino\",\"Masculino\",\"Meninos\",\"Feminino\",\"Feminino\",\"Feminino\",\"Masculino\",\"Meninos\",\"Feminino\",\"Masculino\",\"Feminino\",\"Masculino\",\"Meninas\",\"Feminino\",\"Masculino\",\"Masculino\",\"Feminino\",\"Feminino\",\"Feminino\",\"Masculino\",\"Feminino\",\"Masculino\",\"Unissex\",\"Feminino\",\"Feminino\",\"Masculino\",\"Sem gênero\",\"Meninos\",\"Masculino\",\"Feminino\",\"Feminino\",\"Feminino\",\"Feminino\",\"Feminino\",\"Masculino\",\"Bebês\",\"Meninos\",\"Feminino\",\"Masculino\",\"Sem gênero\",\"Feminino\",\"Masculino\",\"Masculino\",\"Sem gênero\",\"Feminino\",\"Feminino\",\"Masculino\",\"Masculino\",\"roupa para gordinha pluss P ao 52\",\"Feminino\",\"Masculino\",\"Masculino\",\"Sem gênero\",\"Feminino\",\"Meninos\",\"Feminino\",\"Feminino\",\"Masculino\",\"Feminino\",\"Masculino\",\"Sem gênero\",\"Feminino\",\"Meninos\",\"Feminino\",\"Masculino\",\"Masculino\",\"Masculino\",\"Feminino\",\"Feminino\",\"Feminino\",\"Masculino\",\"Masculino\",\"Feminino\",\"Feminino\",\"Masculino\",\"Masculino\",\"Masculino\",\"Feminino\",\"Feminino\",\"Feminino\",\"Masculino\",\"Masculino\",\"Meninos\",\"Masculino\",\"Masculino\",\"Feminino\",\"Masculino\",\"Feminino\",\"Feminino\",\"Masculino\",\"Masculino\",\"Feminino\",\"Masculino\",\"Sem gênero\",\"Feminino\",\"Masculino\",\"Meninos\",\"Feminino\",\"Masculino\",\"Sem gênero\",\"Sem gênero\",\"Masculino\",\"Masculino\",\"Feminino\",\"Feminino\",\"Feminino\",\"Masculino\",\"Masculino\",\"Sem gênero\",\"Feminino\",\"Masculino\",\"Feminino\",\"Feminino\",\"Feminino\",\"Masculino\",\"Feminino\",\"Feminino\",\"Bebês\",\"Feminino\",\"Feminino\",\"Feminino\",\"Feminino\",\"Sem gênero\",\"Feminino\",\"Sem gênero infantil\",\"Feminino\",\"Masculino\",\"Masculino\",\"Feminino\",\"Masculino\",\"Masculino\",\"Masculino\",\"Feminino\",\"Masculino\",\"Masculino\",\"Sem gênero\",\"Meninas\",\"Masculino\",\"Feminino\",\"Feminino\",\"Feminino\",\"Feminino\",\"Masculino\",\"Feminino\",\"Masculino\",\"Masculino\",\"Masculino\",\"Masculino\",\"Feminino\",\"Masculino\",\"Masculino\",\"Feminino\",\"Masculino\",\"Feminino\",\"Masculino\",\"Sem gênero\",\"Masculino\",\"Masculino\",\"Sem gênero\",\"Sem gênero\",\"Masculino\",\"Masculino\",\"Feminino\",\"Meninas\",\"Feminino\",\"Meninas\",\"Masculino\",\"Masculino\",\"Masculino\",\"Masculino\",\"Sem gênero\",\"Feminino\",\"Feminino\",\"Feminino\",\"Masculino\",\"Masculino\",\"Feminino\",\"Meninas\",\"Meninos\",\"Feminino\",\"Masculino\",\"Meninos\",\"Feminino\",\"Feminino\",\"Masculino\",\"Feminino\",\"Sem gênero infantil\",\"Feminino\",\"Masculino\",\"Masculino\",\"Masculino\",\"Masculino\",\"Meninos\",\"Feminino\",\"Meninos\",\"Masculino\",\"Feminino\"],\"legendgroup\":\"\",\"name\":\"\",\"showlegend\":true,\"values\":[10,50,10,1000,100,10,10,10,1000,1000,1000,1000,1000,1000,10,100,1000,10,1000,100,10,10,1000,1000,10,100,100,1000,1000,100,50,100,1000,1000,100,100,1000,10,100,1000,1000,100,50,1000,10,1000,1000,1000,100,10,1000,1000,1000,50,100,50,100,1000,100,50,100,5,100,100,100,1000,100,25,1000,1000,1000,100,1000,100,1000,100,1000,100,100,1000,1000,10,10,100,100,100,50,100,50,1000,10,50,50,100,1000,10,1000,100,100,10,100,1000,100,1000,100,100,1000,10,100,25,100,100,100,10,1000,10,100,1000,1000,50,100,100,100,100,100,25,100,100,50,25,100,100,100,100,25,1000,1000,1000,25,10,1000,1000,100,100,10,10,50,100,10,50,1000,50,100,100,100,10,100,50,100,25,25,1000,100,10,1000,25,1000,1000,25,10,100,1000,1000,10,50,1000,1000,25,100,1000,100,50,50,100,50,5,100,100,50,1000,1000,1000,100,50,1000,100,1000,1000,1000,10,10,100,100,100,10,50,1000,100,1000,25,25,1000,10,50,100,1000,100,100,1000,1000,100,50,100,25,100,10,100,1000,100,1000,50,100,100,100,25,1000,100,25,100,100,1000,1000,100,10,1000,1000,100,100,100,25,1000,1000,1000,1000,100,1000,100,1000,10,10,50,50,1000,100,1000,10,50,100,1000,100,100,1000,10,1000,1000,100,100,1000,100,50,1000,1000,1000,100,1000,50,10,1000,50,10,100,50,100,100,25],\"type\":\"pie\"}],                        {\"template\":{\"data\":{\"histogram2dcontour\":[{\"type\":\"histogram2dcontour\",\"colorbar\":{\"outlinewidth\":0,\"ticks\":\"\"},\"colorscale\":[[0.0,\"#0d0887\"],[0.1111111111111111,\"#46039f\"],[0.2222222222222222,\"#7201a8\"],[0.3333333333333333,\"#9c179e\"],[0.4444444444444444,\"#bd3786\"],[0.5555555555555556,\"#d8576b\"],[0.6666666666666666,\"#ed7953\"],[0.7777777777777778,\"#fb9f3a\"],[0.8888888888888888,\"#fdca26\"],[1.0,\"#f0f921\"]]}],\"choropleth\":[{\"type\":\"choropleth\",\"colorbar\":{\"outlinewidth\":0,\"ticks\":\"\"}}],\"histogram2d\":[{\"type\":\"histogram2d\",\"colorbar\":{\"outlinewidth\":0,\"ticks\":\"\"},\"colorscale\":[[0.0,\"#0d0887\"],[0.1111111111111111,\"#46039f\"],[0.2222222222222222,\"#7201a8\"],[0.3333333333333333,\"#9c179e\"],[0.4444444444444444,\"#bd3786\"],[0.5555555555555556,\"#d8576b\"],[0.6666666666666666,\"#ed7953\"],[0.7777777777777778,\"#fb9f3a\"],[0.8888888888888888,\"#fdca26\"],[1.0,\"#f0f921\"]]}],\"heatmap\":[{\"type\":\"heatmap\",\"colorbar\":{\"outlinewidth\":0,\"ticks\":\"\"},\"colorscale\":[[0.0,\"#0d0887\"],[0.1111111111111111,\"#46039f\"],[0.2222222222222222,\"#7201a8\"],[0.3333333333333333,\"#9c179e\"],[0.4444444444444444,\"#bd3786\"],[0.5555555555555556,\"#d8576b\"],[0.6666666666666666,\"#ed7953\"],[0.7777777777777778,\"#fb9f3a\"],[0.8888888888888888,\"#fdca26\"],[1.0,\"#f0f921\"]]}],\"heatmapgl\":[{\"type\":\"heatmapgl\",\"colorbar\":{\"outlinewidth\":0,\"ticks\":\"\"},\"colorscale\":[[0.0,\"#0d0887\"],[0.1111111111111111,\"#46039f\"],[0.2222222222222222,\"#7201a8\"],[0.3333333333333333,\"#9c179e\"],[0.4444444444444444,\"#bd3786\"],[0.5555555555555556,\"#d8576b\"],[0.6666666666666666,\"#ed7953\"],[0.7777777777777778,\"#fb9f3a\"],[0.8888888888888888,\"#fdca26\"],[1.0,\"#f0f921\"]]}],\"contourcarpet\":[{\"type\":\"contourcarpet\",\"colorbar\":{\"outlinewidth\":0,\"ticks\":\"\"}}],\"contour\":[{\"type\":\"contour\",\"colorbar\":{\"outlinewidth\":0,\"ticks\":\"\"},\"colorscale\":[[0.0,\"#0d0887\"],[0.1111111111111111,\"#46039f\"],[0.2222222222222222,\"#7201a8\"],[0.3333333333333333,\"#9c179e\"],[0.4444444444444444,\"#bd3786\"],[0.5555555555555556,\"#d8576b\"],[0.6666666666666666,\"#ed7953\"],[0.7777777777777778,\"#fb9f3a\"],[0.8888888888888888,\"#fdca26\"],[1.0,\"#f0f921\"]]}],\"surface\":[{\"type\":\"surface\",\"colorbar\":{\"outlinewidth\":0,\"ticks\":\"\"},\"colorscale\":[[0.0,\"#0d0887\"],[0.1111111111111111,\"#46039f\"],[0.2222222222222222,\"#7201a8\"],[0.3333333333333333,\"#9c179e\"],[0.4444444444444444,\"#bd3786\"],[0.5555555555555556,\"#d8576b\"],[0.6666666666666666,\"#ed7953\"],[0.7777777777777778,\"#fb9f3a\"],[0.8888888888888888,\"#fdca26\"],[1.0,\"#f0f921\"]]}],\"mesh3d\":[{\"type\":\"mesh3d\",\"colorbar\":{\"outlinewidth\":0,\"ticks\":\"\"}}],\"scatter\":[{\"fillpattern\":{\"fillmode\":\"overlay\",\"size\":10,\"solidity\":0.2},\"type\":\"scatter\"}],\"parcoords\":[{\"type\":\"parcoords\",\"line\":{\"colorbar\":{\"outlinewidth\":0,\"ticks\":\"\"}}}],\"scatterpolargl\":[{\"type\":\"scatterpolargl\",\"marker\":{\"colorbar\":{\"outlinewidth\":0,\"ticks\":\"\"}}}],\"bar\":[{\"error_x\":{\"color\":\"#2a3f5f\"},\"error_y\":{\"color\":\"#2a3f5f\"},\"marker\":{\"line\":{\"color\":\"#E5ECF6\",\"width\":0.5},\"pattern\":{\"fillmode\":\"overlay\",\"size\":10,\"solidity\":0.2}},\"type\":\"bar\"}],\"scattergeo\":[{\"type\":\"scattergeo\",\"marker\":{\"colorbar\":{\"outlinewidth\":0,\"ticks\":\"\"}}}],\"scatterpolar\":[{\"type\":\"scatterpolar\",\"marker\":{\"colorbar\":{\"outlinewidth\":0,\"ticks\":\"\"}}}],\"histogram\":[{\"marker\":{\"pattern\":{\"fillmode\":\"overlay\",\"size\":10,\"solidity\":0.2}},\"type\":\"histogram\"}],\"scattergl\":[{\"type\":\"scattergl\",\"marker\":{\"colorbar\":{\"outlinewidth\":0,\"ticks\":\"\"}}}],\"scatter3d\":[{\"type\":\"scatter3d\",\"line\":{\"colorbar\":{\"outlinewidth\":0,\"ticks\":\"\"}},\"marker\":{\"colorbar\":{\"outlinewidth\":0,\"ticks\":\"\"}}}],\"scattermapbox\":[{\"type\":\"scattermapbox\",\"marker\":{\"colorbar\":{\"outlinewidth\":0,\"ticks\":\"\"}}}],\"scatterternary\":[{\"type\":\"scatterternary\",\"marker\":{\"colorbar\":{\"outlinewidth\":0,\"ticks\":\"\"}}}],\"scattercarpet\":[{\"type\":\"scattercarpet\",\"marker\":{\"colorbar\":{\"outlinewidth\":0,\"ticks\":\"\"}}}],\"carpet\":[{\"aaxis\":{\"endlinecolor\":\"#2a3f5f\",\"gridcolor\":\"white\",\"linecolor\":\"white\",\"minorgridcolor\":\"white\",\"startlinecolor\":\"#2a3f5f\"},\"baxis\":{\"endlinecolor\":\"#2a3f5f\",\"gridcolor\":\"white\",\"linecolor\":\"white\",\"minorgridcolor\":\"white\",\"startlinecolor\":\"#2a3f5f\"},\"type\":\"carpet\"}],\"table\":[{\"cells\":{\"fill\":{\"color\":\"#EBF0F8\"},\"line\":{\"color\":\"white\"}},\"header\":{\"fill\":{\"color\":\"#C8D4E3\"},\"line\":{\"color\":\"white\"}},\"type\":\"table\"}],\"barpolar\":[{\"marker\":{\"line\":{\"color\":\"#E5ECF6\",\"width\":0.5},\"pattern\":{\"fillmode\":\"overlay\",\"size\":10,\"solidity\":0.2}},\"type\":\"barpolar\"}],\"pie\":[{\"automargin\":true,\"type\":\"pie\"}]},\"layout\":{\"autotypenumbers\":\"strict\",\"colorway\":[\"#636efa\",\"#EF553B\",\"#00cc96\",\"#ab63fa\",\"#FFA15A\",\"#19d3f3\",\"#FF6692\",\"#B6E880\",\"#FF97FF\",\"#FECB52\"],\"font\":{\"color\":\"#2a3f5f\"},\"hovermode\":\"closest\",\"hoverlabel\":{\"align\":\"left\"},\"paper_bgcolor\":\"white\",\"plot_bgcolor\":\"#E5ECF6\",\"polar\":{\"bgcolor\":\"#E5ECF6\",\"angularaxis\":{\"gridcolor\":\"white\",\"linecolor\":\"white\",\"ticks\":\"\"},\"radialaxis\":{\"gridcolor\":\"white\",\"linecolor\":\"white\",\"ticks\":\"\"}},\"ternary\":{\"bgcolor\":\"#E5ECF6\",\"aaxis\":{\"gridcolor\":\"white\",\"linecolor\":\"white\",\"ticks\":\"\"},\"baxis\":{\"gridcolor\":\"white\",\"linecolor\":\"white\",\"ticks\":\"\"},\"caxis\":{\"gridcolor\":\"white\",\"linecolor\":\"white\",\"ticks\":\"\"}},\"coloraxis\":{\"colorbar\":{\"outlinewidth\":0,\"ticks\":\"\"}},\"colorscale\":{\"sequential\":[[0.0,\"#0d0887\"],[0.1111111111111111,\"#46039f\"],[0.2222222222222222,\"#7201a8\"],[0.3333333333333333,\"#9c179e\"],[0.4444444444444444,\"#bd3786\"],[0.5555555555555556,\"#d8576b\"],[0.6666666666666666,\"#ed7953\"],[0.7777777777777778,\"#fb9f3a\"],[0.8888888888888888,\"#fdca26\"],[1.0,\"#f0f921\"]],\"sequentialminus\":[[0.0,\"#0d0887\"],[0.1111111111111111,\"#46039f\"],[0.2222222222222222,\"#7201a8\"],[0.3333333333333333,\"#9c179e\"],[0.4444444444444444,\"#bd3786\"],[0.5555555555555556,\"#d8576b\"],[0.6666666666666666,\"#ed7953\"],[0.7777777777777778,\"#fb9f3a\"],[0.8888888888888888,\"#fdca26\"],[1.0,\"#f0f921\"]],\"diverging\":[[0,\"#8e0152\"],[0.1,\"#c51b7d\"],[0.2,\"#de77ae\"],[0.3,\"#f1b6da\"],[0.4,\"#fde0ef\"],[0.5,\"#f7f7f7\"],[0.6,\"#e6f5d0\"],[0.7,\"#b8e186\"],[0.8,\"#7fbc41\"],[0.9,\"#4d9221\"],[1,\"#276419\"]]},\"xaxis\":{\"gridcolor\":\"white\",\"linecolor\":\"white\",\"ticks\":\"\",\"title\":{\"standoff\":15},\"zerolinecolor\":\"white\",\"automargin\":true,\"zerolinewidth\":2},\"yaxis\":{\"gridcolor\":\"white\",\"linecolor\":\"white\",\"ticks\":\"\",\"title\":{\"standoff\":15},\"zerolinecolor\":\"white\",\"automargin\":true,\"zerolinewidth\":2},\"scene\":{\"xaxis\":{\"backgroundcolor\":\"#E5ECF6\",\"gridcolor\":\"white\",\"linecolor\":\"white\",\"showbackground\":true,\"ticks\":\"\",\"zerolinecolor\":\"white\",\"gridwidth\":2},\"yaxis\":{\"backgroundcolor\":\"#E5ECF6\",\"gridcolor\":\"white\",\"linecolor\":\"white\",\"showbackground\":true,\"ticks\":\"\",\"zerolinecolor\":\"white\",\"gridwidth\":2},\"zaxis\":{\"backgroundcolor\":\"#E5ECF6\",\"gridcolor\":\"white\",\"linecolor\":\"white\",\"showbackground\":true,\"ticks\":\"\",\"zerolinecolor\":\"white\",\"gridwidth\":2}},\"shapedefaults\":{\"line\":{\"color\":\"#2a3f5f\"}},\"annotationdefaults\":{\"arrowcolor\":\"#2a3f5f\",\"arrowhead\":0,\"arrowwidth\":1},\"geo\":{\"bgcolor\":\"white\",\"landcolor\":\"#E5ECF6\",\"subunitcolor\":\"white\",\"showland\":true,\"showlakes\":true,\"lakecolor\":\"white\"},\"title\":{\"x\":0.05},\"mapbox\":{\"style\":\"light\"}}},\"legend\":{\"tracegroupgap\":0},\"title\":{\"text\":\"Gráfico de Pizza(Gênero e Quantidade Vendida)\"}},                        {\"responsive\": true}                    ).then(function(){\n",
              "                            \n",
              "var gd = document.getElementById('8386cf8d-c6c9-449f-942e-798fb334e15c');\n",
              "var x = new MutationObserver(function (mutations, observer) {{\n",
              "        var display = window.getComputedStyle(gd).display;\n",
              "        if (!display || display === 'none') {{\n",
              "            console.log([gd, 'removed!']);\n",
              "            Plotly.purge(gd);\n",
              "            observer.disconnect();\n",
              "        }}\n",
              "}});\n",
              "\n",
              "// Listen for the removal of the full notebook cells\n",
              "var notebookContainer = gd.closest('#notebook-container');\n",
              "if (notebookContainer) {{\n",
              "    x.observe(notebookContainer, {childList: true});\n",
              "}}\n",
              "\n",
              "// Listen for the clearing of the current output cell\n",
              "var outputEl = gd.closest('.output');\n",
              "if (outputEl) {{\n",
              "    x.observe(outputEl, {childList: true});\n",
              "}}\n",
              "\n",
              "                        })                };                            </script>        </div>\n",
              "</body>\n",
              "</html>"
            ]
          },
          "metadata": {}
        }
      ]
    },
    {
      "cell_type": "code",
      "source": [
        "def graficos(df):\n",
        "  fig1 = px.histogram(df, x='Nota', title='Distribuição de Idade')\n",
        "  fig2 = px.scatter(df, x='Preço',y='Qtd_Vendidos2',size='N_Avaliações',color='Nota',hover_name='Título',size_max=50)\n",
        "  fig2.update_layout(title='Gráfico de bolhas(Preço e Quantidade Vendida)',xaxis_title='Preço',yaxis_title='Qtd_Vendidos')\n",
        "  fig3 = go.Figure(data=go.Heatmap(z=df_mp.values,x=df_mp.columns,y=df_mp.index,colorscale='Viridis',colorbar=dict(title='Correlação'),\n",
        "                                    text=df_mp.values.round(2),texttemplate=\"%{text}\",textfont={\"size\":10}))\n",
        "  fig3.update_layout(title='Mapa de Calor',)\n",
        "  fig4 = px.bar(df,x='Nota',y='Qtd_Vendidos2',color='Temporada',barmode='group')\n",
        "  fig4.update_layout(title='Gráfico de Barras(Nota e Quantidade Vendida)',xaxis_title='Nota',yaxis_title='Qtd_Vendidos')\n",
        "  fig5 = px.pie(df, names='Gênero',values='Qtd_Vendidos2',title='Gráfico de Pizza(Gênero e Quantidade Vendida)')\n",
        "  x_values = np.linspace(df['Qtd_Vendidos2'].min(), df['Qtd_Vendidos2'].max(), 1000)\n",
        "  y_values = kde(x_values)\n",
        "  fig6 = fig = go.Figure(data=go.Scatter(x=x_values, y=y_values))\n",
        "  fig6.update_layout(title='Gráfico de Densidade(Quantidade Vendida)',xaxis_title='Quantidade Vendida',yaxis_title='Densidade')\n",
        "  fig7 = px.scatter(df, x='Nota', y='Qtd_Vendidos2',trendline='ols')\n",
        "  fig7.update_layout(title='Gráfico de Regressão(Nota e Quantidade Vendida)',xaxis_title='Nota',yaxis_title='Quantidade Vendida')\n",
        "  fig8 = px.scatter_3d(df, x='Nota', y='Preço',z='Qtd_Vendidos2',color='Gênero')\n",
        "  fig8.update_layout(title='Gráfico de Dispersão 3D(Nota, Preço e Quantidade Vendida)',\n",
        "                    scene = dict(xaxis_title='Nota', yaxis_title='Preço', zaxis_title='Quantidade Vendida'))\n",
        "  return fig1,fig2,fig3,fig4,fig5,fig6,fig7,fig8"
      ],
      "metadata": {
        "id": "48xupsZfj7eY"
      },
      "execution_count": 86,
      "outputs": []
    },
    {
      "cell_type": "markdown",
      "source": [],
      "metadata": {
        "id": "HPA2SiTu_9Yz"
      }
    },
    {
      "cell_type": "code",
      "source": [
        "def cri_app(df):\n",
        "  app = Dash(__name__)\n",
        "  fig1,fig2,fig3,fig4,fig5,fig6,fig7,fig8 = graficos(df)\n",
        "  app.layout = html.Div([\n",
        "      dcc.Graph(figure=fig1),\n",
        "      dcc.Graph(figure=fig2),\n",
        "      dcc.Graph(figure=fig3),\n",
        "      dcc.Graph(figure=fig4),\n",
        "      dcc.Graph(figure=fig5),\n",
        "      dcc.Graph(figure=fig6),\n",
        "      dcc.Graph(figure=fig7),\n",
        "      dcc.Graph(figure=fig8)\n",
        "  ])\n",
        "  return app\n"
      ],
      "metadata": {
        "id": "E-5qLdBvDL1e"
      },
      "execution_count": 87,
      "outputs": []
    },
    {
      "cell_type": "code",
      "source": [
        "if __name__ == '__main__':\n",
        "  app = cri_app(df)\n",
        "  app.run(debug=True, port = 8050)\n"
      ],
      "metadata": {
        "colab": {
          "base_uri": "https://localhost:8080/",
          "height": 671
        },
        "id": "8QMH4kliFuN6",
        "outputId": "aae81469-864b-40e6-9796-7d46b01579cb"
      },
      "execution_count": 90,
      "outputs": [
        {
          "output_type": "display_data",
          "data": {
            "text/plain": [
              "<IPython.core.display.Javascript object>"
            ],
            "application/javascript": [
              "(async (port, path, width, height, cache, element) => {\n",
              "    if (!google.colab.kernel.accessAllowed && !cache) {\n",
              "      return;\n",
              "    }\n",
              "    element.appendChild(document.createTextNode(''));\n",
              "    const url = await google.colab.kernel.proxyPort(port, {cache});\n",
              "    const iframe = document.createElement('iframe');\n",
              "    iframe.src = new URL(path, url).toString();\n",
              "    iframe.height = height;\n",
              "    iframe.width = width;\n",
              "    iframe.style.border = 0;\n",
              "    iframe.allow = [\n",
              "        'accelerometer',\n",
              "        'autoplay',\n",
              "        'camera',\n",
              "        'clipboard-read',\n",
              "        'clipboard-write',\n",
              "        'gyroscope',\n",
              "        'magnetometer',\n",
              "        'microphone',\n",
              "        'serial',\n",
              "        'usb',\n",
              "        'xr-spatial-tracking',\n",
              "    ].join('; ');\n",
              "    element.appendChild(iframe);\n",
              "  })(8050, \"/\", \"100%\", 650, false, window.element)"
            ]
          },
          "metadata": {}
        }
      ]
    }
  ]
}