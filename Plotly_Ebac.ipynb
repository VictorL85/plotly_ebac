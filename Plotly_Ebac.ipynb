{
  "nbformat": 4,
  "nbformat_minor": 0,
  "metadata": {
    "colab": {
      "provenance": [],
      "authorship_tag": "ABX9TyO3hWNgmS798SYqA/idtb+a",
      "include_colab_link": true
    },
    "kernelspec": {
      "name": "python3",
      "display_name": "Python 3"
    },
    "language_info": {
      "name": "python"
    }
  },
  "cells": [
    {
      "cell_type": "markdown",
      "metadata": {
        "id": "view-in-github",
        "colab_type": "text"
      },
      "source": [
        "<a href=\"https://colab.research.google.com/github/VictorL85/plotly_ebac/blob/main/Plotly_Ebac.ipynb\" target=\"_parent\"><img src=\"https://colab.research.google.com/assets/colab-badge.svg\" alt=\"Open In Colab\"/></a>"
      ]
    },
    {
      "cell_type": "code",
      "source": [
        "pip install dash"
      ],
      "metadata": {
        "colab": {
          "base_uri": "https://localhost:8080/"
        },
        "id": "6Ro1-DifJYco",
        "outputId": "b17c0963-3e8e-4b2a-bee0-c4ccea2ba03b"
      },
      "execution_count": null,
      "outputs": [
        {
          "output_type": "stream",
          "name": "stdout",
          "text": [
            "Requirement already satisfied: dash in /usr/local/lib/python3.11/dist-packages (3.0.4)\n",
            "Requirement already satisfied: Flask<3.1,>=1.0.4 in /usr/local/lib/python3.11/dist-packages (from dash) (3.0.3)\n",
            "Requirement already satisfied: Werkzeug<3.1 in /usr/local/lib/python3.11/dist-packages (from dash) (3.0.6)\n",
            "Requirement already satisfied: plotly>=5.0.0 in /usr/local/lib/python3.11/dist-packages (from dash) (5.24.1)\n",
            "Requirement already satisfied: importlib-metadata in /usr/local/lib/python3.11/dist-packages (from dash) (8.7.0)\n",
            "Requirement already satisfied: typing-extensions>=4.1.1 in /usr/local/lib/python3.11/dist-packages (from dash) (4.14.0)\n",
            "Requirement already satisfied: requests in /usr/local/lib/python3.11/dist-packages (from dash) (2.32.3)\n",
            "Requirement already satisfied: retrying in /usr/local/lib/python3.11/dist-packages (from dash) (1.3.4)\n",
            "Requirement already satisfied: nest-asyncio in /usr/local/lib/python3.11/dist-packages (from dash) (1.6.0)\n",
            "Requirement already satisfied: setuptools in /usr/local/lib/python3.11/dist-packages (from dash) (75.2.0)\n",
            "Requirement already satisfied: Jinja2>=3.1.2 in /usr/local/lib/python3.11/dist-packages (from Flask<3.1,>=1.0.4->dash) (3.1.6)\n",
            "Requirement already satisfied: itsdangerous>=2.1.2 in /usr/local/lib/python3.11/dist-packages (from Flask<3.1,>=1.0.4->dash) (2.2.0)\n",
            "Requirement already satisfied: click>=8.1.3 in /usr/local/lib/python3.11/dist-packages (from Flask<3.1,>=1.0.4->dash) (8.2.1)\n",
            "Requirement already satisfied: blinker>=1.6.2 in /usr/local/lib/python3.11/dist-packages (from Flask<3.1,>=1.0.4->dash) (1.9.0)\n",
            "Requirement already satisfied: tenacity>=6.2.0 in /usr/local/lib/python3.11/dist-packages (from plotly>=5.0.0->dash) (9.1.2)\n",
            "Requirement already satisfied: packaging in /usr/local/lib/python3.11/dist-packages (from plotly>=5.0.0->dash) (24.2)\n",
            "Requirement already satisfied: MarkupSafe>=2.1.1 in /usr/local/lib/python3.11/dist-packages (from Werkzeug<3.1->dash) (3.0.2)\n",
            "Requirement already satisfied: zipp>=3.20 in /usr/local/lib/python3.11/dist-packages (from importlib-metadata->dash) (3.22.0)\n",
            "Requirement already satisfied: charset-normalizer<4,>=2 in /usr/local/lib/python3.11/dist-packages (from requests->dash) (3.4.2)\n",
            "Requirement already satisfied: idna<4,>=2.5 in /usr/local/lib/python3.11/dist-packages (from requests->dash) (3.10)\n",
            "Requirement already satisfied: urllib3<3,>=1.21.1 in /usr/local/lib/python3.11/dist-packages (from requests->dash) (2.4.0)\n",
            "Requirement already satisfied: certifi>=2017.4.17 in /usr/local/lib/python3.11/dist-packages (from requests->dash) (2025.4.26)\n",
            "Requirement already satisfied: six>=1.7.0 in /usr/local/lib/python3.11/dist-packages (from retrying->dash) (1.17.0)\n"
          ]
        }
      ]
    },
    {
      "cell_type": "code",
      "source": [
        "import pandas as pd\n",
        "import plotly.express as px\n",
        "from dash import Dash, html, dcc\n",
        "import plotly.graph_objects as go\n",
        "import numpy as np"
      ],
      "metadata": {
        "id": "CCEXY7R2ji18"
      },
      "execution_count": null,
      "outputs": []
    },
    {
      "cell_type": "code",
      "source": [
        "df = pd.read_csv('/content/ecommerce_estatistica.csv')"
      ],
      "metadata": {
        "id": "oN1gSa0gj2ps"
      },
      "execution_count": null,
      "outputs": []
    },
    {
      "cell_type": "code",
      "source": [
        "df['Qtd_Vendidos2'] = df['Qtd_Vendidos'].astype(str).str.replace('[^0-9]', '', regex=True)\n",
        "df['Qtd_Vendidos2'] = pd.to_numeric(df['Qtd_Vendidos2'], errors='coerce')\n",
        "df_mp = df[['Preço','Qtd_Vendidos2','Nota','Desconto','Marca_Cod']].corr()"
      ],
      "metadata": {
        "id": "Ap2dFrpPo5zW"
      },
      "execution_count": null,
      "outputs": []
    },
    {
      "cell_type": "code",
      "source": [
        "def graficos(df):\n",
        "  fig1 = px.histogram(df, x='Nota', title='Distribuição de Idade')\n",
        "  fig2 = px.scatter(df, x='Preço',y='Qtd_Vendidos2',size='N_Avaliações',color='Nota',hover_name='Título',size_max=50)\n",
        "  fig2.update_layout(title='Gráfico de bolhas(Preço e Quantidade Vendida)',xaxis_title='Preço',yaxis_title='Qtd_Vendidos')\n",
        "  fig3 = go.Figure(data=go.Heatmap(z=df_mp.values,x=df_mp.columns,y=df_mp.index,colorscale='Viridis',colorbar=dict(title='Correlação'),\n",
        "                                    text=df_mp.values.round(2),texttemplate=\"%{text}\",textfont={\"size\":10}))\n",
        "  fig3.update_layout(title='Mapa de Calor',)\n",
        "  fig4 = px.bar(df,x='Nota',y='Qtd_Vendidos2',color='Temporada',barmode='group')\n",
        "  fig4.update_layout(title='Gráfico de Barras(Nota e Quantidade Vendida)',xaxis_title='Nota',yaxis_title='Qtd_Vendidos')\n",
        "  fig5 = px.pie(df, names='Gênero',values='Qtd_Vendidos2',title='Gráfico de Pizza(Gênero e Quantidade Vendida)')\n",
        "  x_values = np.linspace(df['Qtd_Vendidos2'].min(), df['Qtd_Vendidos2'].max(), 1000)\n",
        "  y_values = kde(x_values)\n",
        "  fig6 = fig = go.Figure(data=go.Scatter(x=x_values, y=y_values))\n",
        "  fig6.update_layout(title='Gráfico de Densidade(Quantidade Vendida)',xaxis_title='Quantidade Vendida',yaxis_title='Densidade')\n",
        "  fig7 = px.scatter(df, x='Nota', y='Qtd_Vendidos2',trendline='ols')\n",
        "  fig7.update_layout(title='Gráfico de Regressão(Nota e Quantidade Vendida)',xaxis_title='Nota',yaxis_title='Quantidade Vendida')\n",
        "  fig8 = px.scatter_3d(df, x='Nota', y='Preço',z='Qtd_Vendidos2',color='Gênero')\n",
        "  fig8.update_layout(title='Gráfico de Dispersão 3D(Nota, Preço e Quantidade Vendida)',\n",
        "                    scene = dict(xaxis_title='Nota', yaxis_title='Preço', zaxis_title='Quantidade Vendida'))\n",
        "  return fig1,fig2,fig3,fig4,fig5,fig6,fig7,fig8"
      ],
      "metadata": {
        "id": "48xupsZfj7eY"
      },
      "execution_count": null,
      "outputs": []
    },
    {
      "cell_type": "markdown",
      "source": [],
      "metadata": {
        "id": "HPA2SiTu_9Yz"
      }
    },
    {
      "cell_type": "code",
      "source": [
        "def cri_app(df):\n",
        "  app = Dash(__name__)\n",
        "  fig1,fig2,fig3,fig4,fig5,fig6,fig7,fig8 = graficos(df)\n",
        "  app.layout = html.Div([\n",
        "      dcc.Graph(figure=fig1),\n",
        "      dcc.Graph(figure=fig2),\n",
        "      dcc.Graph(figure=fig3),\n",
        "      dcc.Graph(figure=fig4),\n",
        "      dcc.Graph(figure=fig5),\n",
        "      dcc.Graph(figure=fig6),\n",
        "      dcc.Graph(figure=fig7),\n",
        "      dcc.Graph(figure=fig8)\n",
        "  ])\n",
        "  return app\n"
      ],
      "metadata": {
        "id": "E-5qLdBvDL1e"
      },
      "execution_count": null,
      "outputs": []
    },
    {
      "cell_type": "code",
      "source": [
        "if __name__ == '__main__':\n",
        "  app = cri_app(df)\n",
        "  app.run(debug=True, port = 8050)\n"
      ],
      "metadata": {
        "colab": {
          "base_uri": "https://localhost:8080/",
          "height": 671
        },
        "id": "8QMH4kliFuN6",
        "outputId": "aae81469-864b-40e6-9796-7d46b01579cb"
      },
      "execution_count": null,
      "outputs": [
        {
          "output_type": "display_data",
          "data": {
            "text/plain": [
              "<IPython.core.display.Javascript object>"
            ],
            "application/javascript": [
              "(async (port, path, width, height, cache, element) => {\n",
              "    if (!google.colab.kernel.accessAllowed && !cache) {\n",
              "      return;\n",
              "    }\n",
              "    element.appendChild(document.createTextNode(''));\n",
              "    const url = await google.colab.kernel.proxyPort(port, {cache});\n",
              "    const iframe = document.createElement('iframe');\n",
              "    iframe.src = new URL(path, url).toString();\n",
              "    iframe.height = height;\n",
              "    iframe.width = width;\n",
              "    iframe.style.border = 0;\n",
              "    iframe.allow = [\n",
              "        'accelerometer',\n",
              "        'autoplay',\n",
              "        'camera',\n",
              "        'clipboard-read',\n",
              "        'clipboard-write',\n",
              "        'gyroscope',\n",
              "        'magnetometer',\n",
              "        'microphone',\n",
              "        'serial',\n",
              "        'usb',\n",
              "        'xr-spatial-tracking',\n",
              "    ].join('; ');\n",
              "    element.appendChild(iframe);\n",
              "  })(8050, \"/\", \"100%\", 650, false, window.element)"
            ]
          },
          "metadata": {}
        }
      ]
    }
  ]
}